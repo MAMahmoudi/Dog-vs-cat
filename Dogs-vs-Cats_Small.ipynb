{
 "cells": [
  {
   "cell_type": "code",
   "execution_count": 1,
   "metadata": {},
   "outputs": [],
   "source": [
    "import matplotlib as plt\n",
    "from tensorflow.keras.models import Sequential \n",
    "from tensorflow.keras.layers import Dense, Activation, Flatten, Dropout, Conv2D, BatchNormalization, MaxPooling2D\n",
    "from tensorflow.keras.preprocessing.image import ImageDataGenerator\n",
    "from tensorflow.keras.optimizers import Adam, RMSprop, SGD\n",
    "\n",
    "# We will use kernel regularizers to implement weight decay\n",
    "\n",
    "from tensorflow.keras.regularizers import L1L2\n",
    "dense_regularizer = L1L2(l2=0.0001)\n",
    "from tensorflow.keras.metrics import categorical_crossentropy\n",
    "from sklearn.metrics import confusion_matrix"
   ]
  },
  {
   "cell_type": "markdown",
   "metadata": {},
   "source": [
    "Convolution layers work better when we initialize kernel with he_normal and use elu instead of relu"
   ]
  },
  {
   "cell_type": "code",
   "execution_count": 2,
   "metadata": {},
   "outputs": [
    {
     "name": "stdout",
     "output_type": "stream",
     "text": [
      "Model: \"sequential\"\n",
      "_________________________________________________________________\n",
      "Layer (type)                 Output Shape              Param #   \n",
      "=================================================================\n",
      "conv2d (Conv2D)              (None, 32, 32, 64)        4864      \n",
      "_________________________________________________________________\n",
      "batch_normalization (BatchNo (None, 32, 32, 64)        256       \n",
      "_________________________________________________________________\n",
      "activation (Activation)      (None, 32, 32, 64)        0         \n",
      "_________________________________________________________________\n",
      "conv2d_1 (Conv2D)            (None, 32, 32, 64)        102464    \n",
      "_________________________________________________________________\n",
      "batch_normalization_1 (Batch (None, 32, 32, 64)        256       \n",
      "_________________________________________________________________\n",
      "activation_1 (Activation)    (None, 32, 32, 64)        0         \n",
      "_________________________________________________________________\n",
      "conv2d_2 (Conv2D)            (None, 32, 32, 64)        102464    \n",
      "_________________________________________________________________\n",
      "batch_normalization_2 (Batch (None, 32, 32, 64)        256       \n",
      "_________________________________________________________________\n",
      "activation_2 (Activation)    (None, 32, 32, 64)        0         \n",
      "_________________________________________________________________\n",
      "max_pooling2d (MaxPooling2D) (None, 16, 16, 64)        0         \n",
      "_________________________________________________________________\n",
      "conv2d_3 (Conv2D)            (None, 16, 16, 128)       73856     \n",
      "_________________________________________________________________\n",
      "batch_normalization_3 (Batch (None, 16, 16, 128)       512       \n",
      "_________________________________________________________________\n",
      "activation_3 (Activation)    (None, 16, 16, 128)       0         \n",
      "_________________________________________________________________\n",
      "conv2d_4 (Conv2D)            (None, 16, 16, 128)       147584    \n",
      "_________________________________________________________________\n",
      "batch_normalization_4 (Batch (None, 16, 16, 128)       512       \n",
      "_________________________________________________________________\n",
      "activation_4 (Activation)    (None, 16, 16, 128)       0         \n",
      "_________________________________________________________________\n",
      "conv2d_5 (Conv2D)            (None, 16, 16, 128)       147584    \n",
      "_________________________________________________________________\n",
      "batch_normalization_5 (Batch (None, 16, 16, 128)       512       \n",
      "_________________________________________________________________\n",
      "activation_5 (Activation)    (None, 16, 16, 128)       0         \n",
      "_________________________________________________________________\n",
      "max_pooling2d_1 (MaxPooling2 (None, 8, 8, 128)         0         \n",
      "_________________________________________________________________\n",
      "conv2d_6 (Conv2D)            (None, 8, 8, 256)         295168    \n",
      "_________________________________________________________________\n",
      "batch_normalization_6 (Batch (None, 8, 8, 256)         1024      \n",
      "_________________________________________________________________\n",
      "activation_6 (Activation)    (None, 8, 8, 256)         0         \n",
      "_________________________________________________________________\n",
      "conv2d_7 (Conv2D)            (None, 8, 8, 256)         590080    \n",
      "_________________________________________________________________\n",
      "batch_normalization_7 (Batch (None, 8, 8, 256)         1024      \n",
      "_________________________________________________________________\n",
      "activation_7 (Activation)    (None, 8, 8, 256)         0         \n",
      "_________________________________________________________________\n",
      "conv2d_8 (Conv2D)            (None, 8, 8, 256)         590080    \n",
      "_________________________________________________________________\n",
      "batch_normalization_8 (Batch (None, 8, 8, 256)         1024      \n",
      "_________________________________________________________________\n",
      "activation_8 (Activation)    (None, 8, 8, 256)         0         \n",
      "_________________________________________________________________\n",
      "max_pooling2d_2 (MaxPooling2 (None, 4, 4, 256)         0         \n",
      "_________________________________________________________________\n",
      "conv2d_9 (Conv2D)            (None, 3, 3, 512)         524800    \n",
      "_________________________________________________________________\n",
      "batch_normalization_9 (Batch (None, 3, 3, 512)         2048      \n",
      "_________________________________________________________________\n",
      "activation_9 (Activation)    (None, 3, 3, 512)         0         \n",
      "_________________________________________________________________\n",
      "conv2d_10 (Conv2D)           (None, 2, 2, 512)         1049088   \n",
      "_________________________________________________________________\n",
      "batch_normalization_10 (Batc (None, 2, 2, 512)         2048      \n",
      "_________________________________________________________________\n",
      "activation_10 (Activation)   (None, 2, 2, 512)         0         \n",
      "_________________________________________________________________\n",
      "conv2d_11 (Conv2D)           (None, 1, 1, 512)         1049088   \n",
      "_________________________________________________________________\n",
      "batch_normalization_11 (Batc (None, 1, 1, 512)         2048      \n",
      "_________________________________________________________________\n",
      "activation_11 (Activation)   (None, 1, 1, 512)         0         \n",
      "_________________________________________________________________\n",
      "flatten (Flatten)            (None, 512)               0         \n",
      "_________________________________________________________________\n",
      "dense (Dense)                (None, 2)                 1026      \n",
      "=================================================================\n",
      "Total params: 4,689,666\n",
      "Trainable params: 4,683,906\n",
      "Non-trainable params: 5,760\n",
      "_________________________________________________________________\n"
     ]
    }
   ],
   "source": [
    "BATCH_SIZE = 128\n",
    "\n",
    "def create_vgg16(x=None):\n",
    "    # we initialize the model\n",
    "    model = Sequential()\n",
    "    \n",
    "    \n",
    "\n",
    "    # Conv Block 1\n",
    "    model.add(Conv2D(64, (5, 5), input_shape=(32,32,3),  padding='same', kernel_regularizer=dense_regularizer,kernel_initializer=\"he_normal\"))\n",
    "    model.add(BatchNormalization())\n",
    "    model.add(Activation('elu'))\n",
    "    model.add(Conv2D(64, (5, 5),   padding='same', kernel_regularizer=dense_regularizer,kernel_initializer=\"he_normal\"))\n",
    "    model.add(BatchNormalization())\n",
    "    model.add(Activation('elu'))\n",
    "    model.add(Conv2D(64, (5, 5),  padding='same', kernel_regularizer=dense_regularizer,kernel_initializer=\"he_normal\"))\n",
    "    model.add(BatchNormalization())\n",
    "    model.add(Activation('elu'))\n",
    "    model.add(MaxPooling2D(pool_size=(2, 2), strides=(2, 2)))\n",
    "\n",
    "    # Conv Block 2\n",
    "    model.add(Conv2D(128, (3, 3),  padding='same', kernel_regularizer=dense_regularizer,kernel_initializer=\"he_normal\"))\n",
    "    model.add(BatchNormalization())\n",
    "    model.add(Activation('elu'))\n",
    "    model.add(Conv2D(128, (3, 3),  padding='same', kernel_regularizer=dense_regularizer,kernel_initializer=\"he_normal\"))\n",
    "    model.add(BatchNormalization())\n",
    "    model.add(Activation('elu'))\n",
    "    model.add(Conv2D(128, (3, 3),  padding='same', kernel_regularizer=dense_regularizer,kernel_initializer=\"he_normal\"))\n",
    "    model.add(BatchNormalization())\n",
    "    model.add(Activation('elu'))\n",
    "    model.add(MaxPooling2D(pool_size=(2, 2), strides=(2, 2)))\n",
    "\n",
    "    # Conv Block 3\n",
    "    model.add(Conv2D(256, (3, 3),  padding='same', kernel_regularizer=dense_regularizer,kernel_initializer=\"he_normal\"))\n",
    "    model.add(BatchNormalization())\n",
    "    model.add(Activation('elu'))\n",
    "    model.add(Conv2D(256, (3, 3),  padding='same', kernel_regularizer=dense_regularizer,kernel_initializer=\"he_normal\"))\n",
    "    model.add(BatchNormalization())\n",
    "    model.add(Activation('elu'))\n",
    "    model.add(Conv2D(256, (3, 3),  padding='same', kernel_regularizer=dense_regularizer,kernel_initializer=\"he_normal\"))\n",
    "    model.add(BatchNormalization())\n",
    "    model.add(Activation('elu'))\n",
    "    model.add(MaxPooling2D(pool_size=(2, 2), strides=(2, 2)))\n",
    "\n",
    "    # Conv Block 4\n",
    "    model.add(Conv2D(512, (2, 2),  padding='valid', kernel_regularizer=dense_regularizer,kernel_initializer=\"he_normal\"))\n",
    "    model.add(BatchNormalization())\n",
    "    model.add(Activation('elu'))\n",
    "    model.add(Conv2D(512, (2, 2),  padding='valid', kernel_regularizer=dense_regularizer,kernel_initializer=\"he_normal\"))\n",
    "    model.add(BatchNormalization())\n",
    "    model.add(Activation('elu'))\n",
    "    model.add(Conv2D(512, (2, 2),  padding='valid', kernel_regularizer=dense_regularizer,kernel_initializer=\"he_normal\"))\n",
    "    model.add(BatchNormalization())\n",
    "    model.add(Activation('elu'))\n",
    "\n",
    "    \n",
    "\n",
    "    # FC layers\n",
    "    model.add(Flatten())\n",
    "        \n",
    "    model.add(Dense(2, activation='softmax', kernel_regularizer=dense_regularizer,kernel_initializer=\"he_normal\"))\n",
    "\n",
    "    return model\n",
    "\n",
    "\n",
    "\n",
    "model = create_vgg16()\n",
    "model.summary()"
   ]
  },
  {
   "cell_type": "markdown",
   "metadata": {},
   "source": [
    "We will use for our test a subset of Dog_vs_Cat dataset. We will take only 7000 images for training and 1500 for both validation and test. We will use data augmentation to avoid over fitting and generate nes images."
   ]
  },
  {
   "cell_type": "code",
   "execution_count": 15,
   "metadata": {},
   "outputs": [
    {
     "name": "stdout",
     "output_type": "stream",
     "text": [
      "Found 7000 images belonging to 2 classes.\n",
      "Found 1500 images belonging to 2 classes.\n"
     ]
    }
   ],
   "source": [
    "# \n",
    "def image_data_generator(data_dir,\n",
    "                         data_augment=False,\n",
    "                         batch_size=BATCH_SIZE,\n",
    "                         target_size=(32, 32),\n",
    "                         color_mode='rgb',\n",
    "                         class_mode='categorical',\n",
    "                         shuffle=True):\n",
    "    if data_augment:\n",
    "        datagen = ImageDataGenerator(rescale=1./255,\n",
    "                                     rotation_range=20,\n",
    "                                     width_shift_range=0.2,\n",
    "                                     height_shift_range=0.2,\n",
    "                                     shear_range=0.2,\n",
    "                                     zoom_range=0.2,\n",
    "                                     horizontal_flip=True)\n",
    "    else:\n",
    "        datagen = ImageDataGenerator(rescale=1./255)\n",
    "\n",
    "    generator = datagen.flow_from_directory(data_dir,\n",
    "                                            target_size=target_size,\n",
    "                                            color_mode=color_mode,\n",
    "                                            batch_size=batch_size,\n",
    "                                            shuffle=shuffle,\n",
    "                                            class_mode=class_mode)\n",
    "    return generator\n",
    "\n",
    "train_generator = image_data_generator('./dogs-vs-cats/train',data_augment=True)\n",
    "validation_generator = image_data_generator('./dogs-vs-cats/valid')\n"
   ]
  },
  {
   "cell_type": "code",
   "execution_count": 4,
   "metadata": {},
   "outputs": [],
   "source": [
    "model.compile(Adam(lr=0.001),loss=\"categorical_crossentropy\",metrics=[\"accuracy\"])"
   ]
  },
  {
   "cell_type": "markdown",
   "metadata": {},
   "source": [
    "We will use early stopping to avoid over fitting. The model stops training if the validation accuracy does not improve over 10 epochs with minimum of 0.0001. We will also use reduce learning rate on plateau with a factor of 0.5 if the validation accuracy does not improve over 5 epochs. Finally, we will save only the best model."
   ]
  },
  {
   "cell_type": "code",
   "execution_count": 5,
   "metadata": {},
   "outputs": [],
   "source": [
    "import tensorflow.keras\n",
    "callbacks_list = [\n",
    "tensorflow.keras.callbacks.EarlyStopping(\n",
    "monitor='val_accuracy', min_delta=0.0001, \n",
    "patience=10, verbose=1, mode='auto',\n",
    "baseline=None, restore_best_weights=True),\n",
    "tensorflow.keras.callbacks.ReduceLROnPlateau(\n",
    "monitor='val_accuracy',\n",
    "factor=0.5,\n",
    "patience=5,\n",
    "verbose=1,\n",
    "mode='auto'),\n",
    "tensorflow.keras.callbacks.ModelCheckpoint(\n",
    "filepath='./my_model.h5',\n",
    "monitor='val_accuracy',\n",
    "save_best_only=True,\n",
    ")\n",
    "]"
   ]
  },
  {
   "cell_type": "code",
   "execution_count": 6,
   "metadata": {},
   "outputs": [
    {
     "name": "stdout",
     "output_type": "stream",
     "text": [
      "Epoch 1/100\n",
      "54/54 [==============================] - 14s 267ms/step - loss: 1.6663 - accuracy: 0.5424 - val_loss: 2.8102 - val_accuracy: 0.5447\n",
      "Epoch 2/100\n",
      "54/54 [==============================] - 12s 221ms/step - loss: 1.2607 - accuracy: 0.5842 - val_loss: 1.3490 - val_accuracy: 0.5959\n",
      "Epoch 3/100\n",
      "54/54 [==============================] - 11s 206ms/step - loss: 1.2307 - accuracy: 0.6078 - val_loss: 1.4413 - val_accuracy: 0.5604\n",
      "Epoch 4/100\n",
      "54/54 [==============================] - 11s 209ms/step - loss: 1.1993 - accuracy: 0.6307 - val_loss: 1.2855 - val_accuracy: 0.5852\n",
      "Epoch 5/100\n",
      "54/54 [==============================] - 11s 212ms/step - loss: 1.1745 - accuracy: 0.6391 - val_loss: 1.2291 - val_accuracy: 0.6186\n",
      "Epoch 6/100\n",
      "54/54 [==============================] - 11s 211ms/step - loss: 1.1417 - accuracy: 0.6577 - val_loss: 1.1713 - val_accuracy: 0.6506\n",
      "Epoch 7/100\n",
      "54/54 [==============================] - 11s 209ms/step - loss: 1.1165 - accuracy: 0.6675 - val_loss: 1.1199 - val_accuracy: 0.6634\n",
      "Epoch 8/100\n",
      "54/54 [==============================] - 11s 207ms/step - loss: 1.0864 - accuracy: 0.6804 - val_loss: 1.1043 - val_accuracy: 0.6420\n",
      "Epoch 9/100\n",
      "54/54 [==============================] - 11s 210ms/step - loss: 1.0572 - accuracy: 0.6855 - val_loss: 1.0324 - val_accuracy: 0.7031\n",
      "Epoch 10/100\n",
      "54/54 [==============================] - 11s 211ms/step - loss: 1.0456 - accuracy: 0.6874 - val_loss: 1.0070 - val_accuracy: 0.7202\n",
      "Epoch 11/100\n",
      "54/54 [==============================] - 11s 207ms/step - loss: 1.0087 - accuracy: 0.7066 - val_loss: 1.1138 - val_accuracy: 0.6683\n",
      "Epoch 12/100\n",
      "54/54 [==============================] - 11s 206ms/step - loss: 0.9894 - accuracy: 0.6985 - val_loss: 1.3054 - val_accuracy: 0.5732\n",
      "Epoch 13/100\n",
      "54/54 [==============================] - 11s 207ms/step - loss: 0.9556 - accuracy: 0.7141 - val_loss: 1.1212 - val_accuracy: 0.6577\n",
      "Epoch 14/100\n",
      "54/54 [==============================] - 11s 206ms/step - loss: 0.9445 - accuracy: 0.7184 - val_loss: 1.1168 - val_accuracy: 0.6257\n",
      "Epoch 15/100\n",
      "53/54 [============================>.] - ETA: 0s - loss: 0.9158 - accuracy: 0.7327\n",
      "Epoch 00015: ReduceLROnPlateau reducing learning rate to 0.0005000000237487257.\n",
      "54/54 [==============================] - 11s 207ms/step - loss: 0.9158 - accuracy: 0.7322 - val_loss: 0.9568 - val_accuracy: 0.6889\n",
      "Epoch 16/100\n",
      "54/54 [==============================] - 11s 208ms/step - loss: 0.8774 - accuracy: 0.7490 - val_loss: 0.9128 - val_accuracy: 0.7173\n",
      "Epoch 17/100\n",
      "54/54 [==============================] - 11s 211ms/step - loss: 0.8505 - accuracy: 0.7581 - val_loss: 0.8843 - val_accuracy: 0.7422\n",
      "Epoch 18/100\n",
      "54/54 [==============================] - 11s 208ms/step - loss: 0.8497 - accuracy: 0.7563 - val_loss: 0.8680 - val_accuracy: 0.7386\n",
      "Epoch 19/100\n",
      "54/54 [==============================] - 11s 207ms/step - loss: 0.8266 - accuracy: 0.7714 - val_loss: 0.9429 - val_accuracy: 0.6918\n",
      "Epoch 20/100\n",
      "54/54 [==============================] - 11s 208ms/step - loss: 0.8173 - accuracy: 0.7628 - val_loss: 0.8441 - val_accuracy: 0.7386\n",
      "Epoch 21/100\n",
      "54/54 [==============================] - 11s 206ms/step - loss: 0.8093 - accuracy: 0.7615 - val_loss: 0.8858 - val_accuracy: 0.7287\n",
      "Epoch 22/100\n",
      "53/54 [============================>.] - ETA: 0s - loss: 0.7941 - accuracy: 0.7714\n",
      "Epoch 00022: ReduceLROnPlateau reducing learning rate to 0.0002500000118743628.\n",
      "54/54 [==============================] - 11s 207ms/step - loss: 0.7944 - accuracy: 0.7711 - val_loss: 0.8826 - val_accuracy: 0.7315\n",
      "Epoch 23/100\n",
      "54/54 [==============================] - 11s 210ms/step - loss: 0.7641 - accuracy: 0.7871 - val_loss: 0.7359 - val_accuracy: 0.8075\n",
      "Epoch 24/100\n",
      "54/54 [==============================] - 11s 206ms/step - loss: 0.7529 - accuracy: 0.7893 - val_loss: 0.7460 - val_accuracy: 0.7955\n",
      "Epoch 25/100\n",
      "54/54 [==============================] - 11s 207ms/step - loss: 0.7241 - accuracy: 0.8001 - val_loss: 0.7532 - val_accuracy: 0.7805\n",
      "Epoch 26/100\n",
      "54/54 [==============================] - 11s 207ms/step - loss: 0.7441 - accuracy: 0.7890 - val_loss: 0.7387 - val_accuracy: 0.7955\n",
      "Epoch 27/100\n",
      "54/54 [==============================] - 11s 207ms/step - loss: 0.7146 - accuracy: 0.8018 - val_loss: 0.7810 - val_accuracy: 0.7699\n",
      "Epoch 28/100\n",
      "54/54 [==============================] - 11s 209ms/step - loss: 0.7166 - accuracy: 0.8019 - val_loss: 0.6920 - val_accuracy: 0.8146\n",
      "Epoch 29/100\n",
      "54/54 [==============================] - 11s 206ms/step - loss: 0.7021 - accuracy: 0.8053 - val_loss: 0.7219 - val_accuracy: 0.7947\n",
      "Epoch 30/100\n",
      "54/54 [==============================] - 11s 207ms/step - loss: 0.6957 - accuracy: 0.8046 - val_loss: 0.7081 - val_accuracy: 0.7926\n",
      "Epoch 31/100\n",
      "54/54 [==============================] - 11s 208ms/step - loss: 0.6840 - accuracy: 0.8167 - val_loss: 0.6966 - val_accuracy: 0.7997\n",
      "Epoch 32/100\n",
      "54/54 [==============================] - 11s 209ms/step - loss: 0.6913 - accuracy: 0.8108 - val_loss: 0.6543 - val_accuracy: 0.8246\n",
      "Epoch 33/100\n",
      "54/54 [==============================] - 11s 206ms/step - loss: 0.6615 - accuracy: 0.8195 - val_loss: 0.7622 - val_accuracy: 0.7614\n",
      "Epoch 34/100\n",
      "54/54 [==============================] - 11s 212ms/step - loss: 0.6621 - accuracy: 0.8125 - val_loss: 0.6554 - val_accuracy: 0.8274\n",
      "Epoch 35/100\n",
      "54/54 [==============================] - 11s 208ms/step - loss: 0.6672 - accuracy: 0.8146 - val_loss: 0.7120 - val_accuracy: 0.7976\n",
      "Epoch 36/100\n",
      "54/54 [==============================] - 11s 206ms/step - loss: 0.6408 - accuracy: 0.8280 - val_loss: 0.7559 - val_accuracy: 0.7500\n",
      "Epoch 37/100\n",
      "54/54 [==============================] - 11s 207ms/step - loss: 0.6507 - accuracy: 0.8174 - val_loss: 0.6480 - val_accuracy: 0.8196\n",
      "Epoch 38/100\n",
      "54/54 [==============================] - 11s 208ms/step - loss: 0.6397 - accuracy: 0.8225 - val_loss: 0.7174 - val_accuracy: 0.7898\n",
      "Epoch 39/100\n",
      "54/54 [==============================] - 11s 211ms/step - loss: 0.6258 - accuracy: 0.8286 - val_loss: 0.6397 - val_accuracy: 0.8402\n",
      "Epoch 40/100\n",
      "54/54 [==============================] - 11s 205ms/step - loss: 0.6216 - accuracy: 0.8286 - val_loss: 0.6168 - val_accuracy: 0.8288\n",
      "Epoch 41/100\n",
      "54/54 [==============================] - 11s 208ms/step - loss: 0.6161 - accuracy: 0.8252 - val_loss: 0.6934 - val_accuracy: 0.7876\n",
      "Epoch 42/100\n",
      "54/54 [==============================] - 11s 207ms/step - loss: 0.6220 - accuracy: 0.8251 - val_loss: 0.6966 - val_accuracy: 0.7834\n",
      "Epoch 43/100\n",
      "54/54 [==============================] - 11s 207ms/step - loss: 0.6106 - accuracy: 0.8235 - val_loss: 0.5931 - val_accuracy: 0.8402\n",
      "Epoch 44/100\n",
      "53/54 [============================>.] - ETA: 0s - loss: 0.5952 - accuracy: 0.8360\n",
      "Epoch 00044: ReduceLROnPlateau reducing learning rate to 0.0001250000059371814.\n",
      "54/54 [==============================] - 11s 206ms/step - loss: 0.5973 - accuracy: 0.8345 - val_loss: 0.8431 - val_accuracy: 0.7294\n",
      "Epoch 45/100\n",
      "54/54 [==============================] - 11s 211ms/step - loss: 0.5706 - accuracy: 0.8478 - val_loss: 0.5737 - val_accuracy: 0.8409\n",
      "Epoch 46/100\n",
      "54/54 [==============================] - 11s 212ms/step - loss: 0.5553 - accuracy: 0.8536 - val_loss: 0.5727 - val_accuracy: 0.8459\n",
      "Epoch 47/100\n",
      "54/54 [==============================] - 11s 211ms/step - loss: 0.5607 - accuracy: 0.8482 - val_loss: 0.5761 - val_accuracy: 0.8487\n",
      "Epoch 48/100\n",
      "54/54 [==============================] - 11s 205ms/step - loss: 0.5548 - accuracy: 0.8529 - val_loss: 0.5592 - val_accuracy: 0.8452\n",
      "Epoch 49/100\n",
      "54/54 [==============================] - 11s 207ms/step - loss: 0.5406 - accuracy: 0.8654 - val_loss: 0.5591 - val_accuracy: 0.8352\n",
      "Epoch 50/100\n",
      "54/54 [==============================] - 11s 203ms/step - loss: 0.5404 - accuracy: 0.8554 - val_loss: 0.5541 - val_accuracy: 0.8480\n",
      "Epoch 51/100\n",
      "54/54 [==============================] - 11s 207ms/step - loss: 0.5277 - accuracy: 0.8628 - val_loss: 0.5720 - val_accuracy: 0.8310\n",
      "Epoch 52/100\n",
      "53/54 [============================>.] - ETA: 0s - loss: 0.5376 - accuracy: 0.8587\n",
      "Epoch 00052: ReduceLROnPlateau reducing learning rate to 6.25000029685907e-05.\n",
      "54/54 [==============================] - 11s 206ms/step - loss: 0.5384 - accuracy: 0.8581 - val_loss: 0.5720 - val_accuracy: 0.8288\n",
      "Epoch 53/100\n"
     ]
    },
    {
     "name": "stdout",
     "output_type": "stream",
     "text": [
      "54/54 [==============================] - 11s 207ms/step - loss: 0.5079 - accuracy: 0.8735 - val_loss: 0.5673 - val_accuracy: 0.8366\n",
      "Epoch 54/100\n",
      "54/54 [==============================] - 11s 206ms/step - loss: 0.5041 - accuracy: 0.8692 - val_loss: 0.5615 - val_accuracy: 0.8366\n",
      "Epoch 55/100\n",
      "54/54 [==============================] - 11s 210ms/step - loss: 0.5011 - accuracy: 0.8749 - val_loss: 0.5383 - val_accuracy: 0.8494\n",
      "Epoch 56/100\n",
      "54/54 [==============================] - 11s 205ms/step - loss: 0.5015 - accuracy: 0.8730 - val_loss: 0.5474 - val_accuracy: 0.8466\n",
      "Epoch 57/100\n",
      "54/54 [==============================] - 11s 208ms/step - loss: 0.4933 - accuracy: 0.8756 - val_loss: 0.6164 - val_accuracy: 0.8239\n",
      "Epoch 58/100\n",
      "54/54 [==============================] - 11s 210ms/step - loss: 0.4925 - accuracy: 0.8772 - val_loss: 0.6230 - val_accuracy: 0.8089\n",
      "Epoch 59/100\n",
      "54/54 [==============================] - 11s 209ms/step - loss: 0.4900 - accuracy: 0.8791 - val_loss: 0.5834 - val_accuracy: 0.8288\n",
      "Epoch 60/100\n",
      "54/54 [==============================] - 12s 216ms/step - loss: 0.4842 - accuracy: 0.8805 - val_loss: 0.5507 - val_accuracy: 0.8501\n",
      "Epoch 61/100\n",
      "54/54 [==============================] - 11s 206ms/step - loss: 0.4868 - accuracy: 0.8820 - val_loss: 0.5505 - val_accuracy: 0.8445\n",
      "Epoch 62/100\n",
      "54/54 [==============================] - 11s 210ms/step - loss: 0.4787 - accuracy: 0.8815 - val_loss: 0.5753 - val_accuracy: 0.8210\n",
      "Epoch 63/100\n",
      "54/54 [==============================] - 11s 211ms/step - loss: 0.4812 - accuracy: 0.8749 - val_loss: 0.5410 - val_accuracy: 0.8537\n",
      "Epoch 64/100\n",
      "54/54 [==============================] - 11s 211ms/step - loss: 0.4760 - accuracy: 0.8852 - val_loss: 0.5473 - val_accuracy: 0.8487\n",
      "Epoch 65/100\n",
      "54/54 [==============================] - 11s 207ms/step - loss: 0.4749 - accuracy: 0.8824 - val_loss: 0.5472 - val_accuracy: 0.8374\n",
      "Epoch 66/100\n",
      "54/54 [==============================] - 11s 211ms/step - loss: 0.4776 - accuracy: 0.8815 - val_loss: 0.5669 - val_accuracy: 0.8338\n",
      "Epoch 67/100\n",
      "54/54 [==============================] - 11s 208ms/step - loss: 0.4684 - accuracy: 0.8826 - val_loss: 0.5490 - val_accuracy: 0.8381\n",
      "Epoch 68/100\n",
      "53/54 [============================>.] - ETA: 0s - loss: 0.4580 - accuracy: 0.8908\n",
      "Epoch 00068: ReduceLROnPlateau reducing learning rate to 3.125000148429535e-05.\n",
      "54/54 [==============================] - 11s 212ms/step - loss: 0.4583 - accuracy: 0.8906 - val_loss: 0.5710 - val_accuracy: 0.8281\n",
      "Epoch 69/100\n",
      "54/54 [==============================] - 11s 206ms/step - loss: 0.4572 - accuracy: 0.8912 - val_loss: 0.5329 - val_accuracy: 0.8537\n",
      "Epoch 70/100\n",
      "54/54 [==============================] - 11s 210ms/step - loss: 0.4466 - accuracy: 0.8959 - val_loss: 0.5412 - val_accuracy: 0.8423\n",
      "Epoch 71/100\n",
      "54/54 [==============================] - 11s 207ms/step - loss: 0.4423 - accuracy: 0.8954 - val_loss: 0.5396 - val_accuracy: 0.8494\n",
      "Epoch 72/100\n",
      "54/54 [==============================] - 12s 214ms/step - loss: 0.4385 - accuracy: 0.8983 - val_loss: 0.5244 - val_accuracy: 0.8594\n",
      "Epoch 73/100\n",
      "54/54 [==============================] - 11s 208ms/step - loss: 0.4491 - accuracy: 0.8935 - val_loss: 0.5287 - val_accuracy: 0.8594\n",
      "Epoch 74/100\n",
      "54/54 [==============================] - 11s 210ms/step - loss: 0.4357 - accuracy: 0.8977 - val_loss: 0.5481 - val_accuracy: 0.8466\n",
      "Epoch 75/100\n",
      "54/54 [==============================] - 11s 208ms/step - loss: 0.4442 - accuracy: 0.8964 - val_loss: 0.5376 - val_accuracy: 0.8537\n",
      "Epoch 76/100\n",
      "54/54 [==============================] - 11s 211ms/step - loss: 0.4367 - accuracy: 0.8976 - val_loss: 0.5598 - val_accuracy: 0.8388\n",
      "Epoch 77/100\n",
      "53/54 [============================>.] - ETA: 0s - loss: 0.4348 - accuracy: 0.8986\n",
      "Epoch 00077: ReduceLROnPlateau reducing learning rate to 1.5625000742147677e-05.\n",
      "54/54 [==============================] - 11s 207ms/step - loss: 0.4346 - accuracy: 0.8984 - val_loss: 0.5601 - val_accuracy: 0.8423\n",
      "Epoch 78/100\n",
      "54/54 [==============================] - 12s 213ms/step - loss: 0.4282 - accuracy: 0.9044 - val_loss: 0.5161 - val_accuracy: 0.8643\n",
      "Epoch 79/100\n",
      "54/54 [==============================] - 12s 213ms/step - loss: 0.4247 - accuracy: 0.9049 - val_loss: 0.5120 - val_accuracy: 0.8686\n",
      "Epoch 80/100\n",
      "54/54 [==============================] - 11s 209ms/step - loss: 0.4273 - accuracy: 0.9041 - val_loss: 0.5305 - val_accuracy: 0.8537\n",
      "Epoch 81/100\n",
      "54/54 [==============================] - 11s 207ms/step - loss: 0.4317 - accuracy: 0.8984 - val_loss: 0.5254 - val_accuracy: 0.8544\n",
      "Epoch 82/100\n",
      "54/54 [==============================] - 11s 210ms/step - loss: 0.4191 - accuracy: 0.9055 - val_loss: 0.5361 - val_accuracy: 0.8530\n",
      "Epoch 83/100\n",
      "54/54 [==============================] - 11s 209ms/step - loss: 0.4131 - accuracy: 0.9050 - val_loss: 0.5425 - val_accuracy: 0.8487\n",
      "Epoch 84/100\n",
      "53/54 [============================>.] - ETA: 0s - loss: 0.4171 - accuracy: 0.9069\n",
      "Epoch 00084: ReduceLROnPlateau reducing learning rate to 7.812500371073838e-06.\n",
      "54/54 [==============================] - 11s 210ms/step - loss: 0.4170 - accuracy: 0.9073 - val_loss: 0.5521 - val_accuracy: 0.8558\n",
      "Epoch 85/100\n",
      "54/54 [==============================] - 11s 209ms/step - loss: 0.4169 - accuracy: 0.9059 - val_loss: 0.5295 - val_accuracy: 0.8643\n",
      "Epoch 86/100\n",
      "54/54 [==============================] - 11s 209ms/step - loss: 0.4074 - accuracy: 0.9097 - val_loss: 0.5380 - val_accuracy: 0.8580\n",
      "Epoch 87/100\n",
      "54/54 [==============================] - 11s 209ms/step - loss: 0.4227 - accuracy: 0.9026 - val_loss: 0.5324 - val_accuracy: 0.8544\n",
      "Epoch 88/100\n",
      "54/54 [==============================] - 11s 209ms/step - loss: 0.4161 - accuracy: 0.9038 - val_loss: 0.5387 - val_accuracy: 0.8580\n",
      "Epoch 89/100\n",
      "53/54 [============================>.] - ETA: 0s - loss: 0.4102 - accuracy: 0.9078Restoring model weights from the end of the best epoch.\n",
      "\n",
      "Epoch 00089: ReduceLROnPlateau reducing learning rate to 3.906250185536919e-06.\n",
      "54/54 [==============================] - 11s 210ms/step - loss: 0.4096 - accuracy: 0.9079 - val_loss: 0.5378 - val_accuracy: 0.8565\n",
      "Epoch 00089: early stopping\n"
     ]
    }
   ],
   "source": [
    "history = model.fit_generator(train_generator,steps_per_epoch=7000 //BATCH_SIZE,epochs=100,\n",
    "                              validation_data=validation_generator,\n",
    "                              validation_steps=1500 //BATCH_SIZE,callbacks=callbacks_list )"
   ]
  },
  {
   "cell_type": "code",
   "execution_count": 7,
   "metadata": {},
   "outputs": [],
   "source": [
    "from matplotlib import pyplot as plt"
   ]
  },
  {
   "cell_type": "code",
   "execution_count": 8,
   "metadata": {},
   "outputs": [
    {
     "data": {
      "image/png": "[encoded data removed]",
      "text/plain": [
       "<Figure size 432x288 with 1 Axes>"
      ]
     },
     "metadata": {
      "needs_background": "light"
     },
     "output_type": "display_data"
    }
   ],
   "source": [
    "plt.plot(history.history['accuracy'])\n",
    "plt.plot(history.history['val_accuracy'])\n",
    "plt.title('model accuracy')\n",
    "plt.xlabel('accuracy')\n",
    "plt.ylabel('epoch')\n",
    "plt.legend(['train','test'],loc='upper left')\n",
    "plt.show()"
   ]
  },
  {
   "cell_type": "code",
   "execution_count": 9,
   "metadata": {},
   "outputs": [
    {
     "data": {
      "image/png": "[encoded data removed]",
      "text/plain": [
       "<Figure size 432x288 with 1 Axes>"
      ]
     },
     "metadata": {
      "needs_background": "light"
     },
     "output_type": "display_data"
    }
   ],
   "source": [
    "plt.plot(history.history['loss'])\n",
    "plt.plot(history.history['val_loss'])\n",
    "plt.title('model loss')\n",
    "plt.xlabel('loss')\n",
    "plt.ylabel('epoch')\n",
    "plt.legend(['train','test'],loc='upper left')\n",
    "plt.show()"
   ]
  },
  {
   "cell_type": "code",
   "execution_count": 10,
   "metadata": {},
   "outputs": [
    {
     "name": "stdout",
     "output_type": "stream",
     "text": [
      "(1500, 2)\n",
      "(1500,)\n",
      "Confusion Matrix\n",
      "[[371 379]\n",
      " [341 409]]\n",
      "(1500,)\n"
     ]
    },
    {
     "data": {
      "image/png": "[encoded data removed]",
      "text/plain": [
       "<Figure size 720x720 with 1 Axes>"
      ]
     },
     "metadata": {
      "needs_background": "light"
     },
     "output_type": "display_data"
    }
   ],
   "source": [
    "import numpy as np\n",
    "\n",
    "import seaborn as sns\n",
    "from sklearn.metrics import confusion_matrix\n",
    "fig = plt.figure(figsize=(10, 10)) # Set Figure\n",
    "\n",
    "#Confution Matrix and Classification Report\n",
    "Y_pred = model.predict_generator(validation_generator, 1500 /BATCH_SIZE)\n",
    "print(Y_pred.shape)\n",
    "y_pred = np.argmax(Y_pred, axis=1)\n",
    "print(y_pred.shape)\n",
    "print('Confusion Matrix')\n",
    "print(confusion_matrix(validation_generator.classes, y_pred))\n",
    "print(validation_generator.classes.shape)\n",
    "mat = confusion_matrix(validation_generator.classes, y_pred)\n",
    "# Plot Confusion matrix\n",
    "sns.heatmap(mat.T, square=True, annot=True, cbar=False, cmap=plt.cm.Blues)\n",
    "plt.xlabel('Predicted Values')\n",
    "plt.ylabel('True Values');\n",
    "plt.show();"
   ]
  },
  {
   "cell_type": "code",
   "execution_count": 11,
   "metadata": {},
   "outputs": [
    {
     "name": "stdout",
     "output_type": "stream",
     "text": [
      "Normalized confusion matrix\n"
     ]
    },
    {
     "data": {
      "image/png": "[encoded data removed]",
      "text/plain": [
       "<Figure size 720x720 with 1 Axes>"
      ]
     },
     "metadata": {
      "needs_background": "light"
     },
     "output_type": "display_data"
    }
   ],
   "source": [
    "mat = mat.astype('float') / mat.sum(axis=1)[:, np.newaxis]\n",
    "print(\"Normalized confusion matrix\")\n",
    "fig = plt.figure(figsize=(10, 10)) # Set Figure\n",
    "sns.heatmap(mat.T, square=True, annot=True, cbar=False, cmap=plt.cm.Blues)\n",
    "plt.xlabel('Predicted Values')\n",
    "plt.ylabel('True Values');\n",
    "plt.show();"
   ]
  },
  {
   "cell_type": "code",
   "execution_count": 13,
   "metadata": {},
   "outputs": [
    {
     "name": "stdout",
     "output_type": "stream",
     "text": [
      "Found 1500 images belonging to 2 classes.\n",
      "[0.49824115563432375, 0.8746667]\n"
     ]
    }
   ],
   "source": [
    "def evaluate_model(model=None, filepath=None):\n",
    "    \"\"\"return the evaluate \"\"\"\n",
    "    if not model:\n",
    "        assert(filepath)\n",
    "        model = models.load_model(filepath)\n",
    "    test_generator = image_data_generator('./dogs-vs-cats/test', batch_size=1, shuffle=False)\n",
    "\n",
    "    nb_samples = len(test_generator)\n",
    "    score = model.evaluate_generator(test_generator, steps=nb_samples)\n",
    "    print(score)\n",
    "    return score\n",
    "\n",
    "score = evaluate_model(model)"
   ]
  },
  {
   "cell_type": "code",
   "execution_count": 14,
   "metadata": {},
   "outputs": [],
   "source": [
    "model.save_weights(\"./Models/Dogs-vs-Cats87_46.h5\")"
   ]
  },
  {
   "cell_type": "code",
   "execution_count": null,
   "metadata": {},
   "outputs": [],
   "source": []
  }
 ],
 "metadata": {
  "kernelspec": {
   "display_name": "Python 3.7 (tensorflow2-0)",
   "language": "python",
   "name": "tensorflow2-0"
  },
  "language_info": {
   "codemirror_mode": {
    "name": "ipython",
    "version": 3
   },
   "file_extension": ".py",
   "mimetype": "text/x-python",
   "name": "python",
   "nbconvert_exporter": "python",
   "pygments_lexer": "ipython3",
   "version": "3.7.5"
  }
 },
 "nbformat": 4,
 "nbformat_minor": 2
}
